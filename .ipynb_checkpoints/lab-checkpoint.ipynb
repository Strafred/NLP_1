{
 "cells": [
  {
   "cell_type": "code",
   "execution_count": 23,
   "id": "initial_id",
   "metadata": {
    "collapsed": true,
    "ExecuteTime": {
     "end_time": "2024-09-13T20:40:04.515847900Z",
     "start_time": "2024-09-13T20:40:04.406859500Z"
    }
   },
   "outputs": [],
   "source": [
    "import json\n",
    "from pymystem3 import Mystem"
   ]
  },
  {
   "cell_type": "code",
   "execution_count": 24,
   "outputs": [
    {
     "name": "stdout",
     "output_type": "stream",
     "text": [
      "учитель писать на доска и объяснять урок\n"
     ]
    }
   ],
   "source": [
    "text = 'Учитель пишет на доске и объясняет уроки'\n",
    "\n",
    "# Параметры:\n",
    "# mystem_bin: str = None, путь к бинарному файлу mystem\n",
    "# grammar_info: bool = True, включать или нет грамматическую информацию\n",
    "# disambiguation: bool = True, выбор наиболее вероятного разбора (контекстное снятие омонимии)\n",
    "# entire_input: bool = True, обрабатывать весь текст\n",
    "# weight: bool = True, вероятность каждого варианта разбора\n",
    "m = Mystem()\n",
    "\n",
    "lemmas = m.lemmatize(text)\n",
    "print(''.join(lemmas))"
   ],
   "metadata": {
    "collapsed": false,
    "ExecuteTime": {
     "end_time": "2024-09-13T20:40:05.649176600Z",
     "start_time": "2024-09-13T20:40:04.417861300Z"
    }
   },
   "id": "6b6bb2d2702d4b3e"
  },
  {
   "cell_type": "code",
   "execution_count": 25,
   "outputs": [
    {
     "data": {
      "text/plain": "[{'analysis': [{'lex': 'учитель', 'wt': 1, 'gr': 'S,муж,од=им,ед'}],\n  'text': 'Учитель'},\n {'text': ' '},\n {'analysis': [{'lex': 'писать',\n    'wt': 1,\n    'gr': 'V,несов,пе=непрош,ед,изъяв,3-л'}],\n  'text': 'пишет'},\n {'text': ' '},\n {'analysis': [{'lex': 'на', 'wt': 0.9989522965, 'gr': 'PR='}], 'text': 'на'},\n {'text': ' '},\n {'analysis': [{'lex': 'доска', 'wt': 1, 'gr': 'S,жен,неод=(пр,ед|дат,ед)'}],\n  'text': 'доске'},\n {'text': ' '},\n {'analysis': [{'lex': 'и', 'wt': 0.9999770357, 'gr': 'CONJ='}], 'text': 'и'},\n {'text': ' '},\n {'analysis': [{'lex': 'объяснять',\n    'wt': 1,\n    'gr': 'V,пе=непрош,ед,изъяв,3-л,несов'}],\n  'text': 'объясняет'},\n {'text': ' '},\n {'analysis': [{'lex': 'урок', 'wt': 1, 'gr': 'S,муж,неод=(вин,мн|им,мн)'}],\n  'text': 'уроки'},\n {'text': '\\n'}]"
     },
     "execution_count": 25,
     "metadata": {},
     "output_type": "execute_result"
    }
   ],
   "source": [
    "m.analyze(text)"
   ],
   "metadata": {
    "collapsed": false,
    "ExecuteTime": {
     "end_time": "2024-09-13T20:40:06.854981400Z",
     "start_time": "2024-09-13T20:40:05.650172600Z"
    }
   },
   "id": "cc854c51d8e283ae"
  },
  {
   "cell_type": "code",
   "execution_count": 26,
   "outputs": [
    {
     "data": {
      "text/plain": "[{'analysis': [{'lex': 'мочь',\n    'wt': 1,\n    'gr': 'V,несов,нп=непрош,мн,изъяв,2-л'}],\n  'text': 'Можете'},\n {'text': ' '},\n {'analysis': [{'lex': 'писать', 'wt': 1, 'gr': 'V,несов,пе=инф'}],\n  'text': 'писать'},\n {'text': ' '},\n {'analysis': [{'lex': 'я', 'wt': 1, 'gr': 'SPRO,ед,1-л=(пр|дат)'}],\n  'text': 'мне'},\n {'text': ' '},\n {'analysis': [{'lex': 'на', 'wt': 0.9989522965, 'gr': 'PR='}], 'text': 'на'},\n {'text': ' '},\n {'analysis': [{'lex': 'почта',\n    'wt': 0.9100893511,\n    'gr': 'S,жен,неод=вин,ед'}],\n  'text': 'почту'},\n {'text': ', '},\n {'analysis': [{'lex': 'если', 'wt': 1, 'gr': 'CONJ='}], 'text': 'если'},\n {'text': ' '},\n {'analysis': [{'lex': 'возникать',\n    'wt': 1,\n    'gr': 'V,нп=непрош,мн,изъяв,3-л,сов'}],\n  'text': 'возникнут'},\n {'text': ' '},\n {'analysis': [{'lex': 'вопрос', 'wt': 1, 'gr': 'S,муж,неод=(вин,мн|им,мн)'}],\n  'text': 'вопросы'},\n {'text': ': '},\n {'analysis': [], 'text': 'kulikov'},\n {'text': '_'},\n {'analysis': [], 'text': 'matvey'},\n {'text': '@'},\n {'analysis': [], 'text': 'mail'},\n {'text': '.'},\n {'analysis': [], 'text': 'ru'},\n {'text': '\\n'}]"
     },
     "execution_count": 26,
     "metadata": {},
     "output_type": "execute_result"
    }
   ],
   "source": [
    "text = \"Можете писать мне на почту, если возникнут вопросы: kulikov_matvey@mail.ru\"\n",
    "\n",
    "m.analyze(text)"
   ],
   "metadata": {
    "collapsed": false,
    "ExecuteTime": {
     "end_time": "2024-09-13T20:40:08.042641100Z",
     "start_time": "2024-09-13T20:40:06.846981900Z"
    }
   },
   "id": "a39988dad9a8b521"
  },
  {
   "cell_type": "code",
   "execution_count": 27,
   "outputs": [
    {
     "data": {
      "text/plain": "[{'analysis': [{'lex': 'на', 'wt': 0.9989522965, 'gr': 'PR='}], 'text': 'На'},\n {'text': ' '},\n {'analysis': [{'lex': 'стрим', 'wt': 1, 'gr': 'S,муж,неод=пр,мн'}],\n  'text': 'стримах'},\n {'text': ' '},\n {'analysis': [{'lex': 'мы', 'wt': 1, 'gr': 'SPRO,мн,1-л=им'}], 'text': 'мы'},\n {'text': ' '},\n {'analysis': [{'lex': 'любить',\n    'wt': 0.6410619709,\n    'gr': 'V,несов,пе=(непрош,мн,изъяв,1-л|непрош,ед,прич,кр,муж,страд)'}],\n  'text': 'любим'},\n {'text': ' '},\n {'analysis': [{'lex': 'рофлить',\n    'wt': 0.3540708875,\n    'qual': 'bastard',\n    'gr': 'S,жен,неод=(вин,ед|им,ед)'}],\n  'text': 'рофлить'},\n {'text': ', '},\n {'analysis': [{'lex': 'кекиваться',\n    'wt': 0.5433607177,\n    'qual': 'bastard',\n    'gr': 'V=инф,сов,пе'}],\n  'text': 'кекать'},\n {'text': ', '},\n {'analysis': [{'lex': 'троллить',\n    'wt': 0.3540708875,\n    'qual': 'bastard',\n    'gr': 'S,жен,неод=(вин,ед|им,ед)'}],\n  'text': 'троллить'},\n {'text': '\\n'}]"
     },
     "execution_count": 27,
     "metadata": {},
     "output_type": "execute_result"
    }
   ],
   "source": [
    "text = \"На стримах мы любим рофлить, кекать, троллить\"\n",
    "\n",
    "m.analyze(text)"
   ],
   "metadata": {
    "collapsed": false,
    "ExecuteTime": {
     "end_time": "2024-09-13T20:40:09.174530300Z",
     "start_time": "2024-09-13T20:40:08.032651500Z"
    }
   },
   "id": "eeb7ccb6fdcdea03"
  },
  {
   "cell_type": "code",
   "execution_count": 28,
   "outputs": [
    {
     "data": {
      "text/plain": "[{'analysis': [{'lex': 'девушка', 'wt': 1, 'gr': 'S,жен,од=им,ед'}],\n  'text': 'Девушка'},\n {'text': ' '},\n {'analysis': [{'lex': 'с', 'wt': 0.999977831, 'gr': 'PR='}], 'text': 'с'},\n {'text': ' '},\n {'analysis': [{'lex': 'красивый',\n    'wt': 1,\n    'gr': 'A=(пр,ед,полн,жен|дат,ед,полн,жен|род,ед,полн,жен|твор,ед,полн,жен)'}],\n  'text': 'красивой'},\n {'text': ' '},\n {'analysis': [{'lex': 'косой',\n    'wt': 0.6712371009,\n    'gr': 'A=(вин,ед,полн,муж,неод|им,ед,полн,муж|пр,ед,полн,жен|дат,ед,полн,жен|род,ед,полн,жен|твор,ед,полн,жен)'}],\n  'text': 'косой'},\n {'text': ' '},\n {'analysis': [{'lex': 'на', 'wt': 0.9989522965, 'gr': 'PR='}], 'text': 'на'},\n {'text': ' '},\n {'analysis': [{'lex': 'поле',\n    'wt': 0.9364740965,\n    'gr': 'S,сред,неод=(пр,ед|вин,ед|им,ед)'}],\n  'text': 'поле'},\n {'text': ' '},\n {'analysis': [{'lex': 'косить',\n    'wt': 1,\n    'gr': 'V,несов,пе=непрош,ед,изъяв,3-л'}],\n  'text': 'косит'},\n {'text': ' '},\n {'analysis': [{'lex': 'косой',\n    'wt': 0.6712371009,\n    'gr': 'A=(вин,ед,полн,муж,неод|им,ед,полн,муж|пр,ед,полн,жен|дат,ед,полн,жен|род,ед,полн,жен|твор,ед,полн,жен)'}],\n  'text': 'косой'},\n {'text': '\\n'}]"
     },
     "execution_count": 28,
     "metadata": {},
     "output_type": "execute_result"
    }
   ],
   "source": [
    "text = \"Девушка с красивой косой на поле косит косой\"\n",
    "\n",
    "m.analyze(text)"
   ],
   "metadata": {
    "collapsed": false,
    "ExecuteTime": {
     "end_time": "2024-09-13T20:40:10.361034700Z",
     "start_time": "2024-09-13T20:40:09.162539100Z"
    }
   },
   "id": "ec2212c5481f5f03"
  },
  {
   "cell_type": "code",
   "execution_count": 29,
   "outputs": [
    {
     "data": {
      "text/plain": "[{'Слово': 'Девушка',\n  'Лемма': 'девушка',\n  'Часть речи': 'существительное',\n  'Грамматическая информация': 'S,жен,од=им,ед',\n  'Присутствует в словаре': True},\n {'Слово': 'с',\n  'Лемма': 'с',\n  'Часть речи': 'предлог',\n  'Грамматическая информация': 'PR=',\n  'Присутствует в словаре': True},\n {'Слово': 'красивой',\n  'Лемма': 'красивый',\n  'Часть речи': 'прилагательное',\n  'Грамматическая информация': 'A=(пр,ед,полн,жен|дат,ед,полн,жен|род,ед,полн,жен|твор,ед,полн,жен)',\n  'Присутствует в словаре': True},\n {'Слово': 'косой',\n  'Лемма': 'косой',\n  'Часть речи': 'прилагательное',\n  'Грамматическая информация': 'A=(вин,ед,полн,муж,неод|им,ед,полн,муж|пр,ед,полн,жен|дат,ед,полн,жен|род,ед,полн,жен|твор,ед,полн,жен)',\n  'Присутствует в словаре': True},\n {'Слово': 'на',\n  'Лемма': 'на',\n  'Часть речи': 'предлог',\n  'Грамматическая информация': 'PR=',\n  'Присутствует в словаре': True},\n {'Слово': 'поле',\n  'Лемма': 'поле',\n  'Часть речи': 'существительное',\n  'Грамматическая информация': 'S,сред,неод=(пр,ед|вин,ед|им,ед)',\n  'Присутствует в словаре': True},\n {'Слово': 'косит',\n  'Лемма': 'косить',\n  'Часть речи': 'глагол',\n  'Грамматическая информация': 'V,несов,пе=непрош,ед,изъяв,3-л',\n  'Присутствует в словаре': True},\n {'Слово': 'косой',\n  'Лемма': 'косой',\n  'Часть речи': 'прилагательное',\n  'Грамматическая информация': 'A=(вин,ед,полн,муж,неод|им,ед,полн,муж|пр,ед,полн,жен|дат,ед,полн,жен|род,ед,полн,жен|твор,ед,полн,жен)',\n  'Присутствует в словаре': True}]"
     },
     "execution_count": 29,
     "metadata": {},
     "output_type": "execute_result"
    }
   ],
   "source": [
    "import re\n",
    "\n",
    "pos_dict = {\n",
    "    'A': 'прилагательное',\n",
    "    'ADV': 'наречие',\n",
    "    'ADVPRO': 'местоименное наречие',\n",
    "    'ANUM': 'числительное-прилагательное',\n",
    "    'APRO': 'местоимение-прилагательное',\n",
    "    'COM': 'часть композита - сложного слова',\n",
    "    'CONJ': 'союз',\n",
    "    'INTJ': 'междометие',\n",
    "    'NUM': 'числительное',\n",
    "    'PART': 'частица',\n",
    "    'PR': 'предлог',\n",
    "    'S': 'существительное',\n",
    "    'SPRO': 'местоимение-существительное',\n",
    "    'V': 'глагол'\n",
    "}\n",
    "\n",
    "def parse_text(text):\n",
    "    m = Mystem(entire_input=False)\n",
    "    analytics = m.analyze(text)\n",
    "    words_info = []\n",
    "    \n",
    "    for word in analytics:\n",
    "        word_dict = {}\n",
    "        try:\n",
    "            word_dict[\"Слово\"] = word[\"text\"]\n",
    "            word_dict[\"Лемма\"] = word[\"analysis\"][0][\"lex\"]\n",
    "\n",
    "            match = re.match(r'[A-Z]*', word['analysis'][0]['gr'])\n",
    "            if match:\n",
    "                pos = pos_dict[match.group()]\n",
    "                word_dict[\"Часть речи\"] = pos\n",
    "\n",
    "            word_dict[\"Грамматическая информация\"] = word[\"analysis\"][0][\"gr\"]\n",
    "            \n",
    "            if \"qual\" in word[\"analysis\"][0] and word[\"analysis\"][0][\"qual\"] == \"bastard\":\n",
    "                word_dict[\"Присутствует в словаре\"] = False\n",
    "            else:\n",
    "                word_dict[\"Присутствует в словаре\"] = True\n",
    "        except:\n",
    "            word_dict[\"Слово\"] = word[\"text\"]\n",
    "            word_dict[\"Лемма\"] = word[\"text\"]\n",
    "            word_dict[\"Часть речи\"] = None\n",
    "            word_dict[\"Грамматическая информация\"] = None\n",
    "            word_dict[\"Присутствует в словаре\"] = False\n",
    "        \n",
    "        words_info.append(word_dict)   \n",
    "    return words_info\n",
    "\n",
    "text = \"Девушка с красивой косой на поле косит косой\"\n",
    "parse_text(text)"
   ],
   "metadata": {
    "collapsed": false,
    "ExecuteTime": {
     "end_time": "2024-09-13T20:40:11.620693400Z",
     "start_time": "2024-09-13T20:40:10.363035900Z"
    }
   },
   "id": "c19e3c7d9d67d41c"
  },
  {
   "cell_type": "code",
   "execution_count": 30,
   "outputs": [],
   "source": [
    "def save_morph_results(results, filename):\n",
    "    with open (filename, 'w', encoding='utf-8') as file:\n",
    "        json.dump(results, file, ensure_ascii=False, indent=4)\n",
    "\n",
    "save_morph_results(parse_text(text), 'morph_results.json')"
   ],
   "metadata": {
    "collapsed": false,
    "ExecuteTime": {
     "end_time": "2024-09-13T20:40:12.815554800Z",
     "start_time": "2024-09-13T20:40:11.615687700Z"
    }
   },
   "id": "86f836b03e3693a5"
  },
  {
   "cell_type": "code",
   "execution_count": 31,
   "outputs": [],
   "source": [
    "def get_dictionary(text):\n",
    "    text = text.lower()\n",
    "    text_info = parse_text(text)\n",
    "    result_dict = {}\n",
    "    lemmas_wordforms = {}\n",
    "    \n",
    "    for word_info in text_info:\n",
    "        word = word_info[\"Слово\"]\n",
    "        if word not in result_dict:\n",
    "            result_dict[word] = {}\n",
    "            result_dict[word][\"Лемма\"] = word_info[\"Лемма\"]\n",
    "            result_dict[word][\"Часть речи\"] = word_info[\"Часть речи\"]\n",
    "            result_dict[word][\"Частота\"] = 1\n",
    "            \n",
    "            if word_info[\"Лемма\"] not in lemmas_wordforms:\n",
    "                lemmas_wordforms[word_info[\"Лемма\"]] = [word]\n",
    "            else:\n",
    "                if word not in lemmas_wordforms[word_info[\"Лемма\"]]:\n",
    "                    lemmas_wordforms[word_info[\"Лемма\"]].append(word)\n",
    "        else:\n",
    "            result_dict[word][\"Частота\"] += 1\n",
    "            \n",
    "    for word in result_dict:\n",
    "        result_dict[word][\"Формы\"] = lemmas_wordforms[result_dict[word][\"Лемма\"]]\n",
    "    \n",
    "    return result_dict"
   ],
   "metadata": {
    "collapsed": false,
    "ExecuteTime": {
     "end_time": "2024-09-13T20:40:12.830128700Z",
     "start_time": "2024-09-13T20:40:12.818598900Z"
    }
   },
   "id": "77a786fbc08ac585"
  },
  {
   "cell_type": "code",
   "execution_count": 32,
   "outputs": [
    {
     "data": {
      "text/plain": "{'девушка': {'Лемма': 'девушка',\n  'Часть речи': 'существительное',\n  'Частота': 1,\n  'Формы': ['девушка', 'девушки']},\n 'с': {'Лемма': 'с', 'Часть речи': 'предлог', 'Частота': 1, 'Формы': ['с']},\n 'красивой': {'Лемма': 'красивый',\n  'Часть речи': 'прилагательное',\n  'Частота': 1,\n  'Формы': ['красивой']},\n 'косой': {'Лемма': 'косой',\n  'Часть речи': 'прилагательное',\n  'Частота': 8,\n  'Формы': ['косой']},\n 'на': {'Лемма': 'на', 'Часть речи': 'предлог', 'Частота': 1, 'Формы': ['на']},\n 'поле': {'Лемма': 'поле',\n  'Часть речи': 'существительное',\n  'Частота': 1,\n  'Формы': ['поле']},\n 'косит': {'Лемма': 'косить',\n  'Часть речи': 'глагол',\n  'Частота': 2,\n  'Формы': ['косит']},\n 'девушки': {'Лемма': 'девушка',\n  'Часть речи': 'существительное',\n  'Частота': 1,\n  'Формы': ['девушка', 'девушки']}}"
     },
     "execution_count": 32,
     "metadata": {},
     "output_type": "execute_result"
    }
   ],
   "source": [
    "dict = get_dictionary(\"Девушка с красивой косой на поле косит косой. Косой девушки косит косой. Косой косой косой косой\")\n",
    "dict"
   ],
   "metadata": {
    "collapsed": false,
    "ExecuteTime": {
     "end_time": "2024-09-13T20:40:14.099850200Z",
     "start_time": "2024-09-13T20:40:12.825134Z"
    }
   },
   "id": "7b6e1ae03a16c9c9"
  },
  {
   "cell_type": "code",
   "execution_count": 33,
   "outputs": [],
   "source": [
    "def save_dictionary(dict, filename):\n",
    "    sorted_dict = sorted(dict.items(), key=lambda x: x[1]['Частота'], reverse=True)\n",
    "    result = {}\n",
    "    for word_info in sorted_dict:\n",
    "        result[word_info[0]] = word_info[1]\n",
    "    \n",
    "    with open(filename, 'w', encoding='utf-8') as file:\n",
    "        json.dump(result, file, ensure_ascii=False, indent=4)"
   ],
   "metadata": {
    "collapsed": false,
    "ExecuteTime": {
     "end_time": "2024-09-13T20:40:14.100399300Z",
     "start_time": "2024-09-13T20:40:14.087348700Z"
    }
   },
   "id": "3677f6c0caca7c08"
  },
  {
   "cell_type": "code",
   "execution_count": 34,
   "outputs": [],
   "source": [
    "save_dictionary(dict, 'dictionary.json')"
   ],
   "metadata": {
    "collapsed": false,
    "ExecuteTime": {
     "end_time": "2024-09-13T20:40:14.134278400Z",
     "start_time": "2024-09-13T20:40:14.095073400Z"
    }
   },
   "id": "77dfe698e345b37"
  },
  {
   "cell_type": "code",
   "execution_count": 35,
   "outputs": [],
   "source": [
    "def get_non_mystem_dict(parsed_text):\n",
    "    result = {}\n",
    "    for word in parsed_text:\n",
    "        if word[\"Присутствует в словаре\"] == False:\n",
    "            word_lemma = word[\"Лемма\"]\n",
    "            if word_lemma not in result:\n",
    "                result[word_lemma] = {\"Частота\": 1}\n",
    "            else:\n",
    "                result[word_lemma][\"Частота\"] += 1\n",
    "    return result"
   ],
   "metadata": {
    "collapsed": false,
    "ExecuteTime": {
     "end_time": "2024-09-13T20:40:14.135276900Z",
     "start_time": "2024-09-13T20:40:14.107387700Z"
    }
   },
   "id": "51830e08eb7a03a1"
  },
  {
   "cell_type": "code",
   "execution_count": 36,
   "outputs": [
    {
     "data": {
      "text/plain": "{'фыв': {'Частота': 1}, 'бигудиль': {'Частота': 3}, 'бигудить': {'Частота': 1}}"
     },
     "execution_count": 36,
     "metadata": {},
     "output_type": "execute_result"
    }
   ],
   "source": [
    "text = \"Фыв бигудиль бигудиля бигудил бигудилем и всё\"\n",
    "parsed_text = parse_text(text)\n",
    "non_mystem_dict = get_non_mystem_dict(parsed_text)\n",
    "non_mystem_dict"
   ],
   "metadata": {
    "collapsed": false,
    "ExecuteTime": {
     "end_time": "2024-09-13T20:40:15.331453Z",
     "start_time": "2024-09-13T20:40:14.117277800Z"
    }
   },
   "id": "29e6ad9ac570061c"
  },
  {
   "cell_type": "code",
   "execution_count": 37,
   "outputs": [],
   "source": [
    "import csv\n",
    "\n",
    "def save_non_mystem_dict(non_mystem_dict, filename):\n",
    "    sorted_dict = sorted(non_mystem_dict.items(), key=lambda x: x[1]['Частота'], reverse=True)\n",
    "    \n",
    "    with open(filename, mode='w', newline='', encoding='utf-8') as file:\n",
    "        writer = csv.writer(file, delimiter='\\t')\n",
    "        writer.writerows(sorted_dict)\n",
    "\n",
    "save_non_mystem_dict(non_mystem_dict, 'non_mystem_dict.tsv')"
   ],
   "metadata": {
    "collapsed": false,
    "ExecuteTime": {
     "end_time": "2024-09-13T20:40:15.331453Z",
     "start_time": "2024-09-13T20:40:15.319801900Z"
    }
   },
   "id": "fc7865789155bd83"
  },
  {
   "cell_type": "code",
   "execution_count": 38,
   "outputs": [],
   "source": [
    "def get_pos_distribution(dict):\n",
    "    result = {}\n",
    "    for word_info in dict:\n",
    "        pos = dict[word_info][\"Часть речи\"]\n",
    "        if pos not in result:\n",
    "            result[pos] = {}\n",
    "            result[pos][\"Количество уникальных слов\"] = 1\n",
    "            result[pos][\"Общее количество слов\"] = dict[word_info][\"Частота\"]\n",
    "        else:\n",
    "            result[pos][\"Количество уникальных слов\"] += 1\n",
    "            result[pos][\"Общее количество слов\"] += dict[word_info][\"Частота\"]\n",
    "    return result"
   ],
   "metadata": {
    "collapsed": false,
    "ExecuteTime": {
     "end_time": "2024-09-13T20:40:15.399053600Z",
     "start_time": "2024-09-13T20:40:15.335456Z"
    }
   },
   "id": "85f855a54a052c25"
  },
  {
   "cell_type": "code",
   "execution_count": 39,
   "outputs": [
    {
     "data": {
      "text/plain": "{'девушка': {'Лемма': 'девушка',\n  'Часть речи': 'существительное',\n  'Частота': 1,\n  'Формы': ['девушка', 'девушки']},\n 'с': {'Лемма': 'с', 'Часть речи': 'предлог', 'Частота': 1, 'Формы': ['с']},\n 'красивой': {'Лемма': 'красивый',\n  'Часть речи': 'прилагательное',\n  'Частота': 1,\n  'Формы': ['красивой']},\n 'косой': {'Лемма': 'косой',\n  'Часть речи': 'прилагательное',\n  'Частота': 8,\n  'Формы': ['косой']},\n 'на': {'Лемма': 'на', 'Часть речи': 'предлог', 'Частота': 1, 'Формы': ['на']},\n 'поле': {'Лемма': 'поле',\n  'Часть речи': 'существительное',\n  'Частота': 1,\n  'Формы': ['поле']},\n 'косит': {'Лемма': 'косить',\n  'Часть речи': 'глагол',\n  'Частота': 2,\n  'Формы': ['косит']},\n 'девушки': {'Лемма': 'девушка',\n  'Часть речи': 'существительное',\n  'Частота': 1,\n  'Формы': ['девушка', 'девушки']}}"
     },
     "execution_count": 39,
     "metadata": {},
     "output_type": "execute_result"
    }
   ],
   "source": [
    "dict"
   ],
   "metadata": {
    "collapsed": false,
    "ExecuteTime": {
     "end_time": "2024-09-13T20:40:15.416052600Z",
     "start_time": "2024-09-13T20:40:15.343447200Z"
    }
   },
   "id": "2456be1fa160e96c"
  },
  {
   "cell_type": "code",
   "execution_count": 40,
   "outputs": [
    {
     "data": {
      "text/plain": "{'существительное': {'Количество уникальных слов': 3,\n  'Общее количество слов': 3},\n 'предлог': {'Количество уникальных слов': 2, 'Общее количество слов': 2},\n 'прилагательное': {'Количество уникальных слов': 2,\n  'Общее количество слов': 9},\n 'глагол': {'Количество уникальных слов': 1, 'Общее количество слов': 2}}"
     },
     "execution_count": 40,
     "metadata": {},
     "output_type": "execute_result"
    }
   ],
   "source": [
    "get_pos_distribution(dict)"
   ],
   "metadata": {
    "collapsed": false,
    "ExecuteTime": {
     "end_time": "2024-09-13T20:40:15.418058500Z",
     "start_time": "2024-09-13T20:40:15.355874200Z"
    }
   },
   "id": "34e62784cc35c6ae"
  },
  {
   "cell_type": "code",
   "execution_count": 41,
   "outputs": [],
   "source": [
    "def save_pos_distribution(pos_distribution, filename):\n",
    "    with open(filename, 'w', encoding='utf-8') as file:\n",
    "        json.dump(pos_distribution, file, ensure_ascii=False, indent=4)"
   ],
   "metadata": {
    "collapsed": false,
    "ExecuteTime": {
     "end_time": "2024-09-13T20:40:15.419059500Z",
     "start_time": "2024-09-13T20:40:15.364088400Z"
    }
   },
   "id": "6e2899836e6e8107"
  },
  {
   "cell_type": "code",
   "execution_count": 42,
   "outputs": [],
   "source": [
    "save_pos_distribution(get_pos_distribution(dict), 'pos_distribution.json')"
   ],
   "metadata": {
    "collapsed": false,
    "ExecuteTime": {
     "end_time": "2024-09-13T20:40:15.420050900Z",
     "start_time": "2024-09-13T20:40:15.372631Z"
    }
   },
   "id": "5c5f6b9e281d08f1"
  },
  {
   "cell_type": "code",
   "execution_count": 43,
   "outputs": [],
   "source": [
    "import pandas as pd\n",
    "\n",
    "texts_stats_df = pd.DataFrame(data=None, columns=['Текстовый файл', 'Размер, байт', 'Размер текста, слов (общее количество слов в тексте)', 'Размер словаря (количество уникальных слов в тексте)', 'Время обработки функцией get_dictionary, секунд'])\n",
    "texts_stats_df_index = 0\n",
    "\n",
    "def append_texts_stats(text_file, size, words_count, unique_words_count, time):\n",
    "    global texts_stats_df_index\n",
    "    texts_stats_df.loc[texts_stats_df_index] = [text_file, size, words_count, unique_words_count, time]\n",
    "    texts_stats_df_index += 1"
   ],
   "metadata": {
    "collapsed": false,
    "ExecuteTime": {
     "end_time": "2024-09-13T20:40:15.420050900Z",
     "start_time": "2024-09-13T20:40:15.385525800Z"
    }
   },
   "id": "1f168c328d80725d"
  },
  {
   "cell_type": "code",
   "execution_count": null,
   "outputs": [],
   "source": [
    "import os\n",
    "from time import time\n",
    "\n",
    "directory = \"texts/\"\n",
    "\n",
    "for filename in os.listdir(directory):\n",
    "    file_path = os.path.join(directory, filename)\n",
    "    if os.path.isfile(file_path):\n",
    "        with open(file_path, 'r', encoding='utf-8') as file:\n",
    "            new_dir = \"texts/\" + filename.split('.')[0]\n",
    "            if not os.path.exists(new_dir):\n",
    "                os.makedirs(new_dir)\n",
    "                \n",
    "            file_text = file.read()\n",
    "            parsed_text = parse_text(file_text)\n",
    "            start_time = time()\n",
    "            dict = get_dictionary(file_text)\n",
    "            end_time = time()\n",
    "            non_mystem_dict = get_non_mystem_dict(parsed_text)\n",
    "            \n",
    "            save_morph_results(parsed_text, new_dir + \"/morph_results.json\")\n",
    "            save_dictionary(dict, new_dir + \"/dictionary.json\")\n",
    "            save_non_mystem_dict(non_mystem_dict, new_dir + \"/non_mystem_dict.tsv\")\n",
    "            save_pos_distribution(get_pos_distribution(dict), new_dir + \"/pos_distribution.json\")\n",
    "            \n",
    "            append_texts_stats(filename, os.path.getsize(file_path), len(parsed_text), len(dict), end_time - start_time)"
   ],
   "metadata": {
    "collapsed": false,
    "is_executing": true,
    "ExecuteTime": {
     "start_time": "2024-09-13T20:40:15.396054400Z"
    }
   },
   "id": "fca6cb247c3d1c6e"
  },
  {
   "cell_type": "code",
   "execution_count": null,
   "outputs": [],
   "source": [
    "texts_stats_df.to_csv('texts_stats.csv', index=False)"
   ],
   "metadata": {
    "collapsed": false,
    "is_executing": true
   },
   "id": "67f8bb99a85b831d"
  }
 ],
 "metadata": {
  "kernelspec": {
   "display_name": "Python 3",
   "language": "python",
   "name": "python3"
  },
  "language_info": {
   "codemirror_mode": {
    "name": "ipython",
    "version": 2
   },
   "file_extension": ".py",
   "mimetype": "text/x-python",
   "name": "python",
   "nbconvert_exporter": "python",
   "pygments_lexer": "ipython2",
   "version": "2.7.6"
  }
 },
 "nbformat": 4,
 "nbformat_minor": 5
}
